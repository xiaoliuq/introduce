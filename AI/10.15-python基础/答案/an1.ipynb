{
 "cells": [
  {
   "cell_type": "code",
   "execution_count": null,
   "metadata": {},
   "outputs": [],
   "source": [
    "#2_1\n",
    "list = []\n",
    "def add(x, y, z, k,):\n",
    "    list.append({'name': x, 'phone': y, 'email': z, 'work': k})\n",
    "    print(\"添加成功\")\n",
    "    return \n",
    "def select():\n",
    "    for i in list:\n",
    "        print(i)\n",
    "    return \n",
    "def delete(x):\n",
    "    del list[x]\n",
    "    print(\"删除成功\")\n",
    "    return \n",
    "while True:\n",
    "    print(\"输入1添加，输入2删除, 输入3查询, 输入0退出\")\n",
    "    try:\n",
    "        x = int(input(\"输入:\"))\n",
    "        if(x == 0):\n",
    "            break\n",
    "        elif(x == 1):\n",
    "            name = input(\"输入姓名:\")\n",
    "            phone = input(\"输入电话:\")\n",
    "            email = input(\"输入邮箱:\")\n",
    "            work = input(\"输入工作:\")\n",
    "            add(name, phone, email, work)\n",
    "        elif(x == 2):\n",
    "            i = int(input(\"删除第几行数据? :\"))\n",
    "            delete(i)\n",
    "        else:\n",
    "            select()\n",
    "    except:\n",
    "        print(\"请输入数字!\")"
   ]
  },
  {
   "cell_type": "code",
   "execution_count": null,
   "metadata": {},
   "outputs": [],
   "source": [
    "#2_2\n",
    "x = 3.14\n",
    "def f(r):\n",
    "    print(\"圆的周长为: \",2 * x * r, \"圆的面积为: \",x * r *r, \"球的表面积为: \",4 * x * r * r, \"球的体积为: \", 4 / 3 * x * r * r * r)\n",
    "    return \n",
    "while True:\n",
    "    r = float(input(\"输入半径:\"))\n",
    "    if(r == 0):\n",
    "        break\n",
    "    else:\n",
    "        print(f(r))"
   ]
  },
  {
   "cell_type": "code",
   "execution_count": null,
   "metadata": {},
   "outputs": [],
   "source": [
    "#2_3\n",
    "#C = 5×(F- 32)/9，F = 9×C /5+32\n",
    "def c_to_f(x):\n",
    "    return 9 * x / 5 +32\n",
    "def f_to_c(x):\n",
    "    return 5 * (x - 32) / 9\n",
    "\n",
    "while True:\n",
    "    x = float(input(\"输入温度: \"))\n",
    "    if(x == 0):\n",
    "        break\n",
    "    else:\n",
    "        print(x,\"摄氏度转换为华氏度为: \",c_to_f(x), \"  \",x,\"华氏度转换为摄氏度为: \",f_to_c(x))"
   ]
  },
  {
   "cell_type": "code",
   "execution_count": null,
   "metadata": {},
   "outputs": [],
   "source": [
    "#2_4\n",
    "import random\n",
    "f = open(\"demo.txt\", \"w\")\n",
    "i = 0\n",
    "while i < 100000:\n",
    "    f.write(str(random.randint(0,10))+\"\\n\")\n",
    "    i+=1\n",
    "f.close()"
   ]
  },
  {
   "cell_type": "code",
   "execution_count": null,
   "metadata": {},
   "outputs": [],
   "source": [
    "#2_5\n",
    "f = open(\"demo.txt\", \"r\")\n",
    "list = f.readlines()\n",
    "j = 1\n",
    "for i in list:\n",
    "    print(\"#第\",j,\"行: \",i)\n",
    "    j+=1"
   ]
  }
 ],
 "metadata": {
  "kernelspec": {
   "display_name": "Python 3",
   "language": "python",
   "name": "python3"
  },
  "language_info": {
   "codemirror_mode": {
    "name": "ipython",
    "version": 3
   },
   "file_extension": ".py",
   "mimetype": "text/x-python",
   "name": "python",
   "nbconvert_exporter": "python",
   "pygments_lexer": "ipython3",
   "version": "3.6.9"
  }
 },
 "nbformat": 4,
 "nbformat_minor": 2
}
