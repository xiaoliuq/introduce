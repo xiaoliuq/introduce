{
 "cells": [
  {
   "cell_type": "code",
   "execution_count": 9,
   "metadata": {
    "collapsed": true
   },
   "outputs": [],
   "source": [
    "import matplotlib.pyplot as plt\n",
    "import tensorflow as tf\n",
    "import numpy as np\n",
    "%matplotlib inline"
   ]
  },
  {
   "cell_type": "code",
   "execution_count": 12,
   "metadata": {},
   "outputs": [
    {
     "data": {
      "text/plain": [
       "<matplotlib.collections.PathCollection at 0x2044d6ab6a0>"
      ]
     },
     "execution_count": 12,
     "metadata": {},
     "output_type": "execute_result"
    },
    {
     "data": {
      "image/png": "[encoded data removed]",
      "text/plain": [
       "<matplotlib.figure.Figure at 0x2044d627a20>"
      ]
     },
     "metadata": {},
     "output_type": "display_data"
    }
   ],
   "source": [
    "####### >>>>>填写<<<<<   设置你想要的真实斜率和截距， 以及数据点(50-200) >>>>>填写<<<<< ############\n",
    "true_w = 5\n",
    "true_b = 3\n",
    "num_samples = 200\n",
    "\n",
    "############################################################################################\n",
    "\n",
    "\n",
    "# 初始化随机数据\n",
    "#X = tf.random.normal(shape=[num_samples, 1]).numpy()\n",
    "X = np.linspace(-1,1,200)[:, np.newaxis] \n",
    "#noise = tf.random.normal(shape=[num_samples, 1]).numpy()\n",
    "noise = np.random.normal(0,1.2, X.shape)\n",
    "\n",
    "####### >>>>>填写<<<<< 在下述函数尾端，添加噪音项, 注意删除下划线 >>>>>填写<<<<<  ################################\n",
    "y = X * true_w + true_b + noise\n",
    "#######################################\n",
    "\n",
    "plt.scatter(X, y)"
   ]
  },
  {
   "cell_type": "code",
   "execution_count": 44,
   "metadata": {
    "collapsed": true
   },
   "outputs": [],
   "source": [
    "\n",
    "W = tf.Variable(tf.random.uniform([1]))  # 随机初始化参数\n",
    "b = tf.Variable(tf.random.uniform([1]))\n",
    "\n",
    "# >>>>>填写<<<<<  定义一个随机一元一次线性函数  y = W * x + b   >>>>>填写<<<<<  ##\n",
    "# 思考 这里的x为什么是小写？ #\n",
    "def random_line(x):\n",
    "    y = W * x + b \n",
    "    return y\n"
   ]
  },
  {
   "cell_type": "code",
   "execution_count": 45,
   "metadata": {
    "scrolled": true
   },
   "outputs": [
    {
     "data": {
      "text/plain": [
       "[<matplotlib.lines.Line2D at 0x2044e6e3da0>]"
      ]
     },
     "execution_count": 45,
     "metadata": {},
     "output_type": "execute_result"
    },
    {
     "data": {
      "image/png": "[encoded data removed]",
      "text/plain": [
       "<matplotlib.figure.Figure at 0x2044e6e3f60>"
      ]
     },
     "metadata": {},
     "output_type": "display_data"
    }
   ],
   "source": [
    "init =tf.global_variables_initializer()\n",
    "sess = tf.Session()\n",
    "sess.run(init)\n",
    "Y_ = sess.run(random_line(X))\n",
    "plt.scatter(X, y)\n",
    "plt.plot(X, Y_, c='r')\n"
   ]
  },
  {
   "cell_type": "code",
   "execution_count": 46,
   "metadata": {
    "collapsed": true
   },
   "outputs": [],
   "source": [
    "def loss_fn( x, y):\n",
    "    y_ = random_line(x)\n",
    "    return tf.reduce_mean(tf.square(y_ - y))"
   ]
  },
  {
   "cell_type": "code",
   "execution_count": null,
   "metadata": {
    "scrolled": true
   },
   "outputs": [
    {
     "name": "stdout",
     "output_type": "stream",
     "text": [
      "[ 0.12783289] [ 0.65243077] 15.0782\n",
      "[ 0.12783289] [ 0.65243077] 15.0782\n",
      "[ 0.12783289] [ 0.65243077] 15.0782\n",
      "[ 0.12783289] [ 0.65243077] 15.0782\n",
      "[ 0.12783289] [ 0.65243077] 15.0782\n",
      "[ 0.12783289] [ 0.65243077] 15.0782\n",
      "[ 0.12783289] [ 0.65243077] 15.0782\n",
      "[ 0.12783289] [ 0.65243077] 15.0782\n",
      "[ 0.12783289] [ 0.65243077] 15.0782\n",
      "[ 0.12783289] [ 0.65243077] 15.0782\n",
      "[ 0.12783289] [ 0.65243077] 15.0782\n",
      "[ 0.12783289] [ 0.65243077] 15.0782\n",
      "[ 0.12783289] [ 0.65243077] 15.0782\n",
      "[ 0.12783289] [ 0.65243077] 15.0782\n",
      "[ 0.12783289] [ 0.65243077] 15.0782\n",
      "[ 0.12783289] [ 0.65243077] 15.0782\n",
      "[ 0.12783289] [ 0.65243077] 15.0782\n",
      "[ 0.12783289] [ 0.65243077] 15.0782\n",
      "[ 0.12783289] [ 0.65243077] 15.0782\n",
      "[ 0.12783289] [ 0.65243077] 15.0782\n",
      "[ 0.12783289] [ 0.65243077] 15.0782\n",
      "[ 0.12783289] [ 0.65243077] 15.0782\n",
      "[ 0.12783289] [ 0.65243077] 15.0782\n",
      "[ 0.12783289] [ 0.65243077] 15.0782\n",
      "[ 0.12783289] [ 0.65243077] 15.0782\n",
      "[ 0.12783289] [ 0.65243077] 15.0782\n",
      "[ 0.12783289] [ 0.65243077] 15.0782\n",
      "[ 0.12783289] [ 0.65243077] 15.0782\n",
      "[ 0.12783289] [ 0.65243077] 15.0782\n",
      "[ 0.12783289] [ 0.65243077] 15.0782\n",
      "[ 0.12783289] [ 0.65243077] 15.0782\n",
      "[ 0.12783289] [ 0.65243077] 15.0782\n",
      "[ 0.12783289] [ 0.65243077] 15.0782\n",
      "[ 0.12783289] [ 0.65243077] 15.0782\n",
      "[ 0.12783289] [ 0.65243077] 15.0782\n",
      "[ 0.12783289] [ 0.65243077] 15.0782\n",
      "[ 0.12783289] [ 0.65243077] 15.0782\n",
      "[ 0.12783289] [ 0.65243077] 15.0782\n",
      "[ 0.12783289] [ 0.65243077] 15.0782\n",
      "[ 0.12783289] [ 0.65243077] 15.0782\n",
      "[ 0.12783289] [ 0.65243077] 15.0782\n",
      "[ 0.12783289] [ 0.65243077] 15.0782\n",
      "[ 0.12783289] [ 0.65243077] 15.0782\n",
      "[ 0.12783289] [ 0.65243077] 15.0782\n",
      "[ 0.12783289] [ 0.65243077] 15.0782\n",
      "[ 0.12783289] [ 0.65243077] 15.0782\n"
     ]
    }
   ],
   "source": [
    "### >>>>>填写<<<<< 通过改变epochs 的值，推荐起始10， 和learning rate 学习率 推荐0.1起始 观察梯度下降学习的线性函数w b的值，以及loss函数的变化>>>>>填写<<<<<  ######\n",
    "\n",
    "EPOCHS = 50\n",
    "LEARNING_RATE = 0.01\n",
    "#######################################################################################################################################\n",
    "\n",
    "for epoch in range(EPOCHS):  # 迭代次数\n",
    "    with tf.GradientTape() as tape:  # 追踪梯度\n",
    "        loss = loss_fn(X, y)  # 计算损失\n",
    "        dW, db = tf.gradients(loss, [W, b])  # 计算梯度\n",
    "        W.assign_sub(LEARNING_RATE * dW)  # 更新梯度\n",
    "        b.assign_sub(LEARNING_RATE * db)\n",
    "    # 输出计算过程\n",
    "    print(sess.run(W), sess.run(b), sess.run(loss))\n",
    "    \n",
    "    #print('Epoch [{}/{}], loss [{:.3f}], W is [{:.3f}], b is [{:.3f}]'.format(epoch, EPOCHS, loss,\n",
    "    #                                                                 sess.run(W),\n",
    "    #                                                                sess.run(b)))"
   ]
  },
  {
   "cell_type": "code",
   "execution_count": null,
   "metadata": {
    "collapsed": true
   },
   "outputs": [],
   "source": []
  }
 ],
 "metadata": {
  "kernelspec": {
   "display_name": "Python 3",
   "language": "python",
   "name": "python3"
  },
  "language_info": {
   "codemirror_mode": {
    "name": "ipython",
    "version": 3
   },
   "file_extension": ".py",
   "mimetype": "text/x-python",
   "name": "python",
   "nbconvert_exporter": "python",
   "pygments_lexer": "ipython3",
   "version": "3.6.2"
  },
  "toc": {
   "base_numbering": 1,
   "nav_menu": {},
   "number_sections": true,
   "sideBar": true,
   "skip_h1_title": false,
   "title_cell": "Table of Contents",
   "title_sidebar": "Contents",
   "toc_cell": false,
   "toc_position": {},
   "toc_section_display": true,
   "toc_window_display": false
  }
 },
 "nbformat": 4,
 "nbformat_minor": 2
}
