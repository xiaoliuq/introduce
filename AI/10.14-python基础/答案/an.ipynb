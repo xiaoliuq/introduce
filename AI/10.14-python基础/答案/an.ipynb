{
 "cells": [
  {
   "cell_type": "code",
   "execution_count": null,
   "metadata": {},
   "outputs": [],
   "source": [
    "#3\n",
    "a = 3\n",
    "print(str(a*3) + str(a)*3)"
   ]
  },
  {
   "cell_type": "code",
   "execution_count": null,
   "metadata": {},
   "outputs": [],
   "source": [
    "#4\n",
    "print(len(\"this is my string\"))"
   ]
  },
  {
   "cell_type": "code",
   "execution_count": null,
   "metadata": {},
   "outputs": [],
   "source": [
    "#5\n",
    "i = 1\n",
    "sum = 0\n",
    "while i < 101:\n",
    "    sum+=i\n",
    "    i+=1\n",
    "print(sum)"
   ]
  },
  {
   "cell_type": "code",
   "execution_count": null,
   "metadata": {},
   "outputs": [],
   "source": [
    "#6\n",
    "while True:\n",
    "    x = int(input(\"请输入年份:\"))\n",
    "    if x == 0:\n",
    "        break\n",
    "    elif x % 4 == 0:\n",
    "        print(\"是闰年\")\n",
    "    else:\n",
    "        print(\"不是闰年\")"
   ]
  },
  {
   "cell_type": "code",
   "execution_count": null,
   "metadata": {},
   "outputs": [],
   "source": [
    "#7\n",
    "i = 1\n",
    "while i < 6:\n",
    "    print(\"*\" * i)\n",
    "    i+=1\n",
    "\n",
    "j = 4\n",
    "while j > 0:\n",
    "    print(\"*\" * j)\n",
    "    j-=1"
   ]
  },
  {
   "cell_type": "code",
   "execution_count": null,
   "metadata": {},
   "outputs": [],
   "source": [
    "#8\n",
    "while True:\n",
    "    x = int(input(\"输入X:\"))\n",
    "    y = int(input(\"输入Y:\"))\n",
    "    if x == 0 and y == 0:\n",
    "        break\n",
    "    if x < y:\n",
    "        print(str(x)+\" \"+str(y))\n",
    "    else:\n",
    "        print(str(y)+\" \"+str(x))"
   ]
  },
  {
   "cell_type": "code",
   "execution_count": null,
   "metadata": {},
   "outputs": [],
   "source": [
    "#9\n",
    "for i in range(1, 5):\n",
    "    for j in range(1,5):\n",
    "        for k in range(1,5):\n",
    "            if i != j and i != k and j != k:\n",
    "                print(str(i)+\" \"+str(j)+\" \"+str(k))"
   ]
  },
  {
   "cell_type": "code",
   "execution_count": null,
   "metadata": {},
   "outputs": [],
   "source": [
    "#10\n",
    "import math\n",
    "def is_sqr(n):\n",
    "    a = int(math.sqrt(n))\n",
    "    return a * a == n\n",
    "i = 0\n",
    "while i < 2000000:\n",
    "    i += 1\n",
    "    if is_sqr(i + 100) and is_sqr(i + 168):\n",
    "        print(i)\n",
    "        break"
   ]
  },
  {
   "cell_type": "code",
   "execution_count": null,
   "metadata": {},
   "outputs": [],
   "source": [
    "#11\n",
    "i = 1\n",
    "x = 0\n",
    "while i < 201:\n",
    "    if i % 17 == 0:\n",
    "        x = i\n",
    "    i+=1\n",
    "print(x)"
   ]
  },
  {
   "cell_type": "code",
   "execution_count": null,
   "metadata": {},
   "outputs": [],
   "source": [
    "#12\n",
    "\n",
    "import math\n",
    "number = int(input(\"Enter a number: \"))\n",
    " \n",
    "list = []\n",
    " \n",
    "def getChildren(num):\n",
    "    isZhishu = True\n",
    "    for i in range(2, int(math.sqrt(1 + num)) + 1): #多加个1\n",
    "        if num % i == 0 and i != num :\n",
    "            list.append(i)\n",
    "            isZhishu = False\n",
    "            getChildren(num / i)\n",
    "            break\n",
    "    \n",
    "    if isZhishu:\n",
    "        list.append(num)\n",
    "getChildren(number)\n",
    "print(list)"
   ]
  },
  {
   "cell_type": "code",
   "execution_count": null,
   "metadata": {},
   "outputs": [],
   "source": [
    "#13\n",
    "sum = 100\n",
    "i = 0\n",
    "while i < 10:\n",
    "    sum /= 2\n",
    "    i += 1\n",
    "print(sum)"
   ]
  },
  {
   "cell_type": "code",
   "execution_count": 1,
   "metadata": {},
   "outputs": [
    {
     "name": "stdout",
     "output_type": "stream",
     "text": [
      "[2, 3, 5, 7, 11, 13, 17, 19, 23, 29, 31, 37, 41, 43, 47, 53, 59, 61, 67, 71, 73, 79, 83, 89, 97, 101, 103, 107, 109, 113, 127, 131, 137, 139, 149, 151, 157, 163, 167, 173, 179, 181, 191, 193, 197, 199]\n"
     ]
    }
   ],
   "source": [
    "#14\n",
    "l = []\n",
    "for x in range(200):\n",
    "    #判断如果ｘ是素数，则打印，如果不是素数就跳过\n",
    "    if x <2:\n",
    "        continue\n",
    "    for i in range(2,x):\n",
    "        if x % i == 0:\n",
    "            break\n",
    "    else:\n",
    "        l.append(x)\n",
    "print(l)"
   ]
  },
  {
   "cell_type": "code",
   "execution_count": 2,
   "metadata": {},
   "outputs": [
    {
     "name": "stdout",
     "output_type": "stream",
     "text": [
      "dict_keys(['a', 'b', 'c'])\n",
      "dict_values([1, 2, 3])\n"
     ]
    }
   ],
   "source": [
    "#15\n",
    "d={'a':1,'b':2,'c':3}\n",
    "print(d.keys())\n",
    "print(d.values())"
   ]
  },
  {
   "cell_type": "code",
   "execution_count": null,
   "metadata": {},
   "outputs": [],
   "source": []
  }
 ],
 "metadata": {
  "kernelspec": {
   "display_name": "Python 3",
   "language": "python",
   "name": "python3"
  },
  "language_info": {
   "codemirror_mode": {
    "name": "ipython",
    "version": 3
   },
   "file_extension": ".py",
   "mimetype": "text/x-python",
   "name": "python",
   "nbconvert_exporter": "python",
   "pygments_lexer": "ipython3",
   "version": "3.6.9"
  }
 },
 "nbformat": 4,
 "nbformat_minor": 2
}
