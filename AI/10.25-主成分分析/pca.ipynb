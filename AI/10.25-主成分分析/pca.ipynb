{
 "cells": [
  {
   "cell_type": "code",
   "execution_count": 1,
   "metadata": {},
   "outputs": [],
   "source": [
    "import numpy as np\n",
    "import pandas as pd\n",
    "import matplotlib.pyplot as plt"
   ]
  },
  {
   "cell_type": "code",
   "execution_count": 2,
   "metadata": {},
   "outputs": [],
   "source": [
    "def meanX(dataX):\n",
    "    return np.mean(dataX,axis=0)#axis=0表示按照列来求均值，如果输入list,则axis=1"
   ]
  },
  {
   "cell_type": "code",
   "execution_count": 3,
   "metadata": {},
   "outputs": [],
   "source": [
    "#计算方差,传入的是一个numpy的矩阵格式，行表示样本数，列表示特征    \n",
    "def variance(X):\n",
    "    m, n = np.shape(X)\n",
    "    mu = meanX(X)\n",
    "    muAll = np.tile(mu, (m, 1))    \n",
    "    X1 = X - muAll\n",
    "    variance = 1./m * np.diag(X1.T * X1)\n",
    "    return variance"
   ]
  },
  {
   "cell_type": "code",
   "execution_count": 4,
   "metadata": {},
   "outputs": [],
   "source": [
    "#标准化,传入的是一个numpy的矩阵格式，行表示样本数，列表示特征    \n",
    "def normalize(X):\n",
    "    m, n = np.shape(X)\n",
    "    mu = meanX(X)\n",
    "    muAll = np.tile(mu, (m, 1))    \n",
    "    X1 = X - muAll\n",
    "    X2 = np.tile(np.diag(X.T * X), (m, 1))\n",
    "    XNorm = X1/X2\n",
    "    return XNorm"
   ]
  },
  {
   "cell_type": "code",
   "execution_count": 30,
   "metadata": {},
   "outputs": [],
   "source": [
    "def pca(XMat, k):\n",
    "    average = meanX(XMat) \n",
    "    m, n = np.shape(XMat)\n",
    "    data_adjust = []\n",
    "    avgs = np.tile(average, (m, 1))\n",
    "    data_adjust = XMat - avgs\n",
    "    covX = np.cov(data_adjust.T)   #计算协方差矩阵\n",
    "    print(\"协方差矩阵为：\",covX)\n",
    "    featValue, featVec=  np.linalg.eig(covX)  #求解协方差矩阵的特征值和特征向量\n",
    "    print(\"特征值为:\",featValue)\n",
    "    print(\"特征向量为:\\n\",featVec)\n",
    "    index = np.argsort(-featValue) #按照featValue进行从大到小排序\n",
    "    print(index)\n",
    "    finalData = []\n",
    "    if k > n:\n",
    "        print(\"k must lower than feature number\")\n",
    "        return\n",
    "    else:\n",
    "        #注意特征向量时列向量，而numpy的二维矩阵(数组)a[m][n]中，a[1]表示第1行值\n",
    "        selectVec = np.matrix(featVec.T[index[:k]]) #所以这里需要进行转置\n",
    "        finalData = data_adjust * selectVec.T \n",
    "        reconData = (finalData * selectVec) + average  \n",
    "    return finalData, reconData"
   ]
  },
  {
   "cell_type": "code",
   "execution_count": 31,
   "metadata": {},
   "outputs": [],
   "source": [
    "def loaddata(datafile):\n",
    "    return np.array(pd.read_csv(datafile,sep=\"\\t\",header=-1)).astype(np.float)"
   ]
  },
  {
   "cell_type": "code",
   "execution_count": 32,
   "metadata": {},
   "outputs": [],
   "source": [
    "def plotBestFit(data1, data2):\t  \n",
    "    dataArr1 = np.array(data1)\n",
    "    dataArr2 = np.array(data2)\n",
    "    \n",
    "    m = np.shape(dataArr1)[0]\n",
    "    axis_x1 = []\n",
    "    axis_y1 = []\n",
    "    axis_x2 = []\n",
    "    axis_y2 = []\n",
    "    for i in range(m):\n",
    "        axis_x1.append(dataArr1[i,0])\n",
    "        axis_y1.append(dataArr1[i,1])\n",
    "        axis_x2.append(dataArr2[i,0]) \n",
    "        axis_y2.append(dataArr2[i,1])\t\t\t\t  \n",
    "    fig = plt.figure()\n",
    "    ax = fig.add_subplot(111)\n",
    "    ax.scatter(axis_x1, axis_y1, s=50, c='red', marker='s')\n",
    "    ax.scatter(axis_x2, axis_y2, s=50, c='blue')\n",
    "    plt.xlabel('x1'); plt.ylabel('x2');\n",
    "    plt.savefig(\"outfile.png\")\n",
    "    plt.show()"
   ]
  },
  {
   "cell_type": "code",
   "execution_count": 36,
   "metadata": {
    "scrolled": true
   },
   "outputs": [
    {
     "name": "stdout",
     "output_type": "stream",
     "text": [
      "协方差矩阵为： [[ 0.61655556  0.61544444 -0.09888889]\n",
      " [ 0.61544444  0.71655556 -0.14222222]\n",
      " [-0.09888889 -0.14222222  0.58666667]]\n",
      "特征值为: [1.32398564 0.04799172 0.54780042]\n",
      "特征向量为:\n",
      " [[-0.65710304 -0.73005684  0.1877035 ]\n",
      " [-0.71887395  0.68183665  0.13534779]\n",
      " [ 0.22679471  0.04599771  0.97285578]]\n",
      "[0 2 1]\n",
      "[[-8.51008274e-01  1.26467678e-03]\n",
      " [ 1.91207823e+00  3.68622211e-01]\n",
      " [-8.31878572e-01  7.90912149e-01]\n",
      " [-4.26369015e-01 -6.24854872e-01]\n",
      " [-1.65391500e+00  2.92381030e-01]\n",
      " [-9.57929322e-01 -9.29572632e-02]\n",
      " [ 2.34078172e-01  5.77419318e-01]\n",
      " [ 8.65067183e-01 -1.33181291e+00]\n",
      " [ 2.45117101e-01 -8.78430526e-01]\n",
      " [ 1.46475950e+00  8.97456182e-01]]\n"
     ]
    },
    {
     "data": {
      "image/png": "[encoded data removed]",
      "text/plain": [
       "<Figure size 432x288 with 1 Axes>"
      ]
     },
     "metadata": {
      "needs_background": "light"
     },
     "output_type": "display_data"
    }
   ],
   "source": [
    "#简单测试\n",
    "#数据来源：http://www.cnblogs.com/jerrylead/archive/2011/04/18/2020209.html\n",
    "def test():\n",
    "    X = [[2.5, 0.5, 2.2, 1.9, 3.1, 2.3, 2, 1, 1.5, 1.1],\n",
    "         [2.4, 0.7, 2.9, 2.2, 3.0, 2.7, 1.6, 1.1, 1.6, 0.9],\n",
    "         [1.3, 2.3, 2.1, 0.8, 1.4, 1.2, 2.1, 0.4, 0.7, 2.7]]\n",
    "    XMat = np.matrix(X).T\n",
    "    k = 2\n",
    "    return pca(XMat, k)\n",
    "\n",
    "#根据数据集data.txt\n",
    "def main():    \n",
    "    datafile = \"data.txt\"\n",
    "    XMat = loaddata(datafile)\n",
    "    k = 1\n",
    "    return pca(XMat, k)\n",
    "    \n",
    "if __name__ == \"__main__\":\n",
    "    finalData, reconMat = test()\n",
    "    print(finalData)\n",
    "    plotBestFit(finalData, reconMat)"
   ]
  },
  {
   "cell_type": "code",
   "execution_count": null,
   "metadata": {},
   "outputs": [],
   "source": []
  }
 ],
 "metadata": {
  "kernelspec": {
   "display_name": "Python 3",
   "language": "python",
   "name": "python3"
  },
  "language_info": {
   "codemirror_mode": {
    "name": "ipython",
    "version": 3
   },
   "file_extension": ".py",
   "mimetype": "text/x-python",
   "name": "python",
   "nbconvert_exporter": "python",
   "pygments_lexer": "ipython3",
   "version": "3.6.9"
  }
 },
 "nbformat": 4,
 "nbformat_minor": 2
}
