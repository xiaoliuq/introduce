{
 "cells": [
  {
   "cell_type": "code",
   "execution_count": 1,
   "metadata": {
    "collapsed": true
   },
   "outputs": [],
   "source": [
    "import tensorflow as tf"
   ]
  },
  {
   "cell_type": "code",
   "execution_count": 2,
   "metadata": {
    "collapsed": true
   },
   "outputs": [],
   "source": [
    "def conv(x, out_c, name):\n",
    "    in_c = x.get_shape()[-1].value\n",
    "    with tf.name_scope(name) as scope:\n",
    "        weight = tf.Variable(tf.truncated_normal([3, 3, in_c, out_c], stddev=0.1), name=\"weights\")\n",
    "        bias = tf.Variable(tf.truncated_normal([out_c], stddev=0.1), name=\"bias\")\n",
    "    return tf.nn.relu(tf.nn.conv2d(x, weight, [1, 1, 1 ,1,], padding='SAME') + bias, name=scope)"
   ]
  },
  {
   "cell_type": "code",
   "execution_count": 3,
   "metadata": {
    "collapsed": true
   },
   "outputs": [],
   "source": [
    "def maxpool(x, name):\n",
    "    return tf.nn.max_pool(x, [1, 2, 2, 1], [1, 2, 2, 1], padding='SAME', name=name)"
   ]
  },
  {
   "cell_type": "code",
   "execution_count": 4,
   "metadata": {
    "collapsed": true
   },
   "outputs": [],
   "source": [
    "def fc(x, out_c, name):\n",
    "    in_c = x.get_shape()[-1].value\n",
    "    with tf.name_scope(name) as scope:\n",
    "        weight = tf.Variable(tf.truncated_normal([in_c, out_c], stddev=0.1), name=\"weights\")\n",
    "        bias = tf.Variable(tf.truncated_normal([out_c], stddev=0.1), name=\"bias\")\n",
    "    return tf.add(tf.matmul(x, weight), bias)"
   ]
  },
  {
   "cell_type": "code",
   "execution_count": null,
   "metadata": {
    "collapsed": true
   },
   "outputs": [],
   "source": [
    "#网络模型  input_size = (?, 224, 224, 3)\n",
    "def model(images, dropout, n_classes):\n",
    "    #conv1\n",
    "    conv1_1 = conv(images, 64, 'conv1_1')\n",
    "    conv1_2 = conv(conv1_1, 64, 'conv1_2')\n",
    "    pool1 = maxpool(conv1_2, 'pool1')\n",
    "    # size = (?, 112, 112, 64)\n",
    "    \n",
    "    #conv2\n",
    "    conv2_1 = conv(pool1, 128, 'conv2_1')\n",
    "    conv2_2 = conv(conv2_1, 128, 'conv2_2')\n",
    "    pool2 = maxpool(conv2_2, 'pool2')\n",
    "    # size = (?, 56, 56, 128)\n",
    "    \n",
    "    #conv3\n",
    "    conv3_1 = conv(pool2, 256, 'conv3_1')\n",
    "    conv3_2 = conv(conv3_1, 256, 'conv3_2')\n",
    "    conv3_3 = conv(conv3_2, 256, 'conv3_3')\n",
    "    pool3 = maxpool(conv3_3, 'pool3')\n",
    "    # size = (?, 28, 28, 256)\n",
    "    \n",
    "    #conv4\n",
    "    conv4_1 = conv(pool3, 512, 'conv4_1')\n",
    "    conv4_2 = conv(conv4_1, 512, 'conv4_2')\n",
    "    conv4_3 = conv(conv4_2, 512, 'conv4_3')\n",
    "    pool4 = maxpool(conv4_3, 'pool4')\n",
    "    # size = (?, 14, 14, 512)\n",
    "    \n",
    "    #conv5\n",
    "    conv5_1 = conv(pool4, 512, 'conv5_1')\n",
    "    conv5_2 = conv(conv5_1, 512, 'conv5_2')\n",
    "    conv5_3 = conv(conv5_2, 512, 'conv5_3')\n",
    "    pool5 = maxpool(conv5_3, 'pool5')\n",
    "    # size = (?, 7, 7, 512)\n",
    "    \n",
    "    # fully connected layer\n",
    "    flatten = tf.reshape(pool5, [-1, 7 * 7 * 512])\n",
    "    fc_6 = tf.nn.relu(fc(flatten, 4096, 'fc_6'))\n",
    "    dropout1 = tf.nn.dropout(fc_6, dropout)\n",
    "    \n",
    "    fc_7 = tf.nn.relu(fc(dropout1, 4096, 'fc_7'))\n",
    "    dropout2 = tf.nn.dropout(fc_7, dropout)\n",
    "    \n",
    "    out = fc(dropout2, n_classes, 'out')\n",
    "    return out"
   ]
  },
  {
   "cell_type": "code",
   "execution_count": null,
   "metadata": {
    "collapsed": true
   },
   "outputs": [],
   "source": []
  }
 ],
 "metadata": {
  "kernelspec": {
   "display_name": "Python 3",
   "language": "python",
   "name": "python3"
  },
  "language_info": {
   "codemirror_mode": {
    "name": "ipython",
    "version": 3
   },
   "file_extension": ".py",
   "mimetype": "text/x-python",
   "name": "python",
   "nbconvert_exporter": "python",
   "pygments_lexer": "ipython3",
   "version": "3.6.9"
  },
  "toc": {
   "base_numbering": 1,
   "nav_menu": {},
   "number_sections": true,
   "sideBar": true,
   "skip_h1_title": false,
   "title_cell": "Table of Contents",
   "title_sidebar": "Contents",
   "toc_cell": false,
   "toc_position": {},
   "toc_section_display": true,
   "toc_window_display": false
  }
 },
 "nbformat": 4,
 "nbformat_minor": 2
}
